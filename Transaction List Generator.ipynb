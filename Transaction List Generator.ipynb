{
 "cells": [
  {
   "cell_type": "code",
   "execution_count": 1,
   "metadata": {},
   "outputs": [
    {
     "ename": "ImportError",
     "evalue": "cannot import name choices",
     "output_type": "error",
     "traceback": [
      "\u001b[0;31m---------------------------------------------------------------------------\u001b[0m",
      "\u001b[0;31mImportError\u001b[0m                               Traceback (most recent call last)",
      "\u001b[0;32m<ipython-input-1-0a4c03e56ab0>\u001b[0m in \u001b[0;36m<module>\u001b[0;34m()\u001b[0m\n\u001b[0;32m----> 1\u001b[0;31m \u001b[0;32mfrom\u001b[0m \u001b[0mrandom\u001b[0m \u001b[0;32mimport\u001b[0m \u001b[0mrandint\u001b[0m\u001b[0;34m,\u001b[0m\u001b[0msample\u001b[0m\u001b[0;34m,\u001b[0m\u001b[0mchoice\u001b[0m\u001b[0;34m,\u001b[0m\u001b[0mchoices\u001b[0m\u001b[0;34m\u001b[0m\u001b[0m\n\u001b[0m",
      "\u001b[0;31mImportError\u001b[0m: cannot import name choices"
     ]
    }
   ],
   "source": [
    "from random import randint,sample,choice,choices"
   ]
  },
  {
   "cell_type": "markdown",
   "metadata": {},
   "source": [
    "## Generate Transactions function \n",
    "It gives transactions in the form of read write operation on data items of a tables present in a database in the form of a list"
   ]
  },
  {
   "cell_type": "code",
   "execution_count": 6,
   "metadata": {},
   "outputs": [],
   "source": [
    "def generate_transactions(table_count,NOT):\n",
    "    # table_count gives the no of tables in the database\n",
    "    # NOT gives the no transactions required\n",
    "    database = dict()\n",
    "    for table_no in range(int(table_count)):\n",
    "        num = randint(3,9)  # assumption of average upto 3 to 9 attributes in a table\n",
    "        attr_list = list()\n",
    "        for j in range(int(num)):\n",
    "            attr_list.append(j)\n",
    "        database['T'+str(table_no+1)] = attr_list\n",
    "    transactions = dict()\n",
    "    for tno in range(int(NOT)):\n",
    "        opt = ['R','W']\n",
    "        table_ids = list(database.keys())\n",
    "        num = randint(1,int(table_count))\n",
    "        table_list = sample(table_ids,num)\n",
    "        op_list = list()\n",
    "        for tab_id in table_list:\n",
    "            number = randint(1,len(database[tab_id]))\n",
    "            table_attr_list = sample(database[tab_id],number)\n",
    "            attr_list = list()\n",
    "            for attr in table_attr_list:\n",
    "                op = choice(opt)\n",
    "                attr = op + '(' + tab_id + \"_\" + str(attr) + ')'\n",
    "                attr_list.append(attr)\n",
    "            for e in attr_list:\n",
    "                op_list.append(e)\n",
    "        transactions['TID_'+str(tno+1)] = op_list\n",
    "    return transactions"
   ]
  },
  {
   "cell_type": "markdown",
   "metadata": {},
   "source": [
    "Here TID gives transaction id which is indicative of the time stamp of a transaction for a given database"
   ]
  },
  {
   "cell_type": "code",
   "execution_count": 41,
   "metadata": {},
   "outputs": [
    {
     "name": "stdout",
     "output_type": "stream",
     "text": [
      "Enter no of tables required : 5\n",
      "Enter the no of transactions to be generated : 5\n",
      "{'TID_1': ['W(T5_1)', 'W(T5_4)', 'R(T5_3)', 'W(T5_2)', 'R(T5_8)', 'R(T1_3)', 'R(T1_7)'], 'TID_2': ['W(T4_3)', 'W(T4_7)', 'W(T4_5)', 'R(T4_1)', 'W(T4_4)', 'R(T3_1)', 'W(T3_4)', 'W(T3_2)', 'W(T5_1)', 'W(T5_2)', 'W(T5_8)', 'W(T5_4)', 'R(T5_7)', 'R(T5_5)', 'R(T1_5)', 'R(T1_3)', 'W(T1_7)', 'W(T1_6)', 'R(T2_2)', 'R(T2_0)', 'R(T2_1)'], 'TID_3': ['W(T2_3)', 'R(T2_0)', 'R(T3_4)', 'W(T3_0)', 'R(T3_5)', 'W(T3_3)', 'R(T3_2)', 'R(T3_1)', 'R(T1_3)', 'R(T1_6)', 'W(T1_5)', 'R(T1_4)', 'R(T1_2)', 'R(T1_7)', 'R(T1_1)', 'W(T1_0)', 'W(T5_3)'], 'TID_4': ['W(T2_2)', 'W(T2_3)', 'W(T5_7)', 'W(T5_8)', 'R(T4_3)', 'W(T4_0)', 'W(T4_4)', 'R(T4_1)', 'R(T4_2)', 'W(T3_0)', 'R(T1_4)'], 'TID_5': ['R(T3_4)', 'R(T3_3)', 'R(T3_5)', 'W(T3_2)', 'R(T3_1)', 'R(T5_5)', 'R(T2_3)', 'R(T2_0)']}\n"
     ]
    }
   ],
   "source": [
    "no_of_tables = int(input('Enter no of tables required : '))\n",
    "no_of_transactions = int(input('Enter the no of transactions to be generated : '))\n",
    "transaction_list = generate_transactions(no_of_tables,no_of_transactions)\n",
    "print(transaction_list)"
   ]
  },
  {
   "cell_type": "markdown",
   "metadata": {},
   "source": [
    "Stores the transaction_list object into a dump file"
   ]
  },
  {
   "cell_type": "code",
   "execution_count": 42,
   "metadata": {},
   "outputs": [
    {
     "name": "stdout",
     "output_type": "stream",
     "text": [
      "Enter the name of transaction_database file : transaction3\n"
     ]
    }
   ],
   "source": [
    "import pickle\n",
    "file_name = input('Enter the name of transaction_database file : ')\n",
    "filehandle = open(file_name+'.pk','wb')\n",
    "pickle.dump(transaction_list,filehandle)\n",
    "filehandle.close()"
   ]
  },
  {
   "cell_type": "code",
   "execution_count": 43,
   "metadata": {},
   "outputs": [
    {
     "name": "stdout",
     "output_type": "stream",
     "text": [
      "{'TID_1': ['W(T5_1)', 'W(T5_4)', 'R(T5_3)', 'W(T5_2)', 'R(T5_8)', 'R(T1_3)', 'R(T1_7)'], 'TID_2': ['W(T4_3)', 'W(T4_7)', 'W(T4_5)', 'R(T4_1)', 'W(T4_4)', 'R(T3_1)', 'W(T3_4)', 'W(T3_2)', 'W(T5_1)', 'W(T5_2)', 'W(T5_8)', 'W(T5_4)', 'R(T5_7)', 'R(T5_5)', 'R(T1_5)', 'R(T1_3)', 'W(T1_7)', 'W(T1_6)', 'R(T2_2)', 'R(T2_0)', 'R(T2_1)'], 'TID_3': ['W(T2_3)', 'R(T2_0)', 'R(T3_4)', 'W(T3_0)', 'R(T3_5)', 'W(T3_3)', 'R(T3_2)', 'R(T3_1)', 'R(T1_3)', 'R(T1_6)', 'W(T1_5)', 'R(T1_4)', 'R(T1_2)', 'R(T1_7)', 'R(T1_1)', 'W(T1_0)', 'W(T5_3)'], 'TID_4': ['W(T2_2)', 'W(T2_3)', 'W(T5_7)', 'W(T5_8)', 'R(T4_3)', 'W(T4_0)', 'W(T4_4)', 'R(T4_1)', 'R(T4_2)', 'W(T3_0)', 'R(T1_4)'], 'TID_5': ['R(T3_4)', 'R(T3_3)', 'R(T3_5)', 'W(T3_2)', 'R(T3_1)', 'R(T5_5)', 'R(T2_3)', 'R(T2_0)']}\n"
     ]
    }
   ],
   "source": [
    "f = open('transaction3.pk','rb')\n",
    "t_dict = pickle.load(f)\n",
    "print(t_dict)"
   ]
  },
  {
   "cell_type": "markdown",
   "metadata": {},
   "source": [
    "## RBAC Consideration"
   ]
  },
  {
   "cell_type": "markdown",
   "metadata": {},
   "source": [
    "No of Roles in the Database"
   ]
  },
  {
   "cell_type": "code",
   "execution_count": 47,
   "metadata": {},
   "outputs": [
    {
     "name": "stdout",
     "output_type": "stream",
     "text": [
      "Enter the number of roles : 4\n"
     ]
    }
   ],
   "source": [
    "num_of_roles = int(input('Enter the number of roles : '))"
   ]
  },
  {
   "cell_type": "markdown",
   "metadata": {},
   "source": [
    "### Transactions performed with respect to each role "
   ]
  },
  {
   "cell_type": "code",
   "execution_count": 50,
   "metadata": {},
   "outputs": [],
   "source": [
    "import math\n",
    "role_dict = dict()\n",
    "for role_no in range(num_of_roles):\n",
    "    max_transactions_with_role = randint(1,int(math.sqrt(no_of_transactions)))\n",
    "    tlist = list(transaction_list.keys())\n",
    "    tlist_with_role = choices(tlist,k = max_transactions_with_role)\n",
    "    role_dict[role_no+1] = tlist_with_role"
   ]
  },
  {
   "cell_type": "code",
   "execution_count": 51,
   "metadata": {},
   "outputs": [
    {
     "name": "stdout",
     "output_type": "stream",
     "text": [
      "{1: ['TID_4'], 2: ['TID_5'], 3: ['TID_3', 'TID_4'], 4: ['TID_1', 'TID_4']}\n"
     ]
    }
   ],
   "source": [
    "print(role_dict)"
   ]
  },
  {
   "cell_type": "markdown",
   "metadata": {},
   "source": [
    "# Calculating Attribute Sensitivity"
   ]
  },
  {
   "cell_type": "code",
   "execution_count": 1,
   "metadata": {},
   "outputs": [],
   "source": [
    "role_dict = {1: ['TID_4','TID_2'], 2: ['TID_5'], 3: ['TID_1', 'TID_2']}\n",
    "transaction_list = {'TID_1': ['W(T5_1)', 'W(T5_4)', 'R(T5_3)', 'W(T5_2)', 'R(T5_8)', 'R(T1_3)', 'R(T1_7)', 'R(T4_1)'], 'TID_2': ['W(T4_3)', 'W(T4_7)', 'W(T4_5)', 'R(T4_1)', 'W(T4_4)', 'R(T3_1)', 'W(T3_4)', 'W(T3_2)', 'W(T5_1)', 'W(T5_2)', 'W(T5_8)', 'W(T5_4)', 'R(T5_7)', 'R(T5_5)', 'R(T1_5)', 'R(T1_3)', 'W(T1_7)', 'W(T1_6)', 'R(T2_2)', 'R(T2_0)', 'R(T2_1)'], 'TID_3': ['W(T2_3)', 'R(T2_0)', 'R(T3_4)', 'W(T3_0)', 'R(T3_5)', 'W(T3_3)', 'R(T3_2)', 'R(T3_1)', 'R(T1_3)', 'R(T1_6)', 'W(T1_5)', 'R(T1_4)', 'R(T1_2)', 'R(T1_7)', 'R(T1_1)', 'W(T1_0)', 'W(T5_3)'], 'TID_4': ['W(T2_2)', 'W(T2_3)', 'W(T5_7)', 'W(T5_8)', 'R(T4_3)', 'W(T4_0)', 'W(T4_4)', 'R(T4_1)', 'R(T4_2)', 'W(T3_0)', 'R(T1_4)'], 'TID_5': ['R(T3_4)', 'R(T3_3)', 'R(T3_5)', 'W(T3_2)', 'R(T3_1)', 'R(T5_5)', 'R(T2_3)', 'R(T2_0)']}"
   ]
  },
  {
   "cell_type": "code",
   "execution_count": 2,
   "metadata": {},
   "outputs": [
    {
     "name": "stdout",
     "output_type": "stream",
     "text": [
      "[['TID_4', 'TID_2'], ['TID_5'], ['TID_1', 'TID_2']]\n"
     ]
    }
   ],
   "source": [
    "print(role_dict.values())"
   ]
  },
  {
   "cell_type": "code",
   "execution_count": 3,
   "metadata": {},
   "outputs": [
    {
     "name": "stdout",
     "output_type": "stream",
     "text": [
      "(['TID_4', 'TID_2'], 1)\n",
      "(['TID_5'], 2)\n",
      "(['TID_1', 'TID_2'], 3)\n"
     ]
    }
   ],
   "source": [
    "transaction_to_role = dict()\n",
    "\n",
    "for ix in role_dict:\n",
    "    transaction_ids = role_dict[ix]\n",
    "    print(transaction_ids, ix)\n",
    "    for transaction in transaction_ids:\n",
    "        if transaction not in transaction_to_role.keys():\n",
    "            transaction_to_role[transaction] = set()\n",
    "        transaction_to_role[transaction].add(ix)\n",
    "        #print(transaction,ix)"
   ]
  },
  {
   "cell_type": "code",
   "execution_count": 4,
   "metadata": {},
   "outputs": [
    {
     "name": "stdout",
     "output_type": "stream",
     "text": [
      "{'TID_5': set([2]), 'TID_4': set([1]), 'TID_2': set([1, 3]), 'TID_1': set([3])}\n"
     ]
    }
   ],
   "source": [
    "print(transaction_to_role)"
   ]
  },
  {
   "cell_type": "code",
   "execution_count": 10,
   "metadata": {},
   "outputs": [],
   "source": [
    "att_freq_profiles = dict()\n",
    "\n",
    "for ix in transaction_list:\n",
    "    tr = transaction_list[ix]\n",
    "    for att in tr:\n",
    "        if att not in att_freq_profiles.keys():\n",
    "            att_freq_profiles[att] = set()\n",
    "        if ix in transaction_to_role.keys():\n",
    "            for role in transaction_to_role[ix]:\n",
    "                att_freq_profiles[att].add(role)\n",
    "        \n",
    "for att in att_freq_profiles:\n",
    "    att_freq_profiles[att] = len(att_freq_profiles[att])"
   ]
  },
  {
   "cell_type": "code",
   "execution_count": 11,
   "metadata": {},
   "outputs": [],
   "source": [
    "att_freq_transactions = dict()\n",
    "\n",
    "for ix in transaction_list:\n",
    "    tr = transaction_list[ix]\n",
    "    for att in tr:\n",
    "        if att not in att_freq_transactions.keys():\n",
    "            att_freq_transactions[att] = set()\n",
    "        att_freq_transactions[att].add(ix)\n",
    "        \n",
    "for att in att_freq_transactions:\n",
    "    att_freq_transactions[att] = len(att_freq_transactions[att])"
   ]
  },
  {
   "cell_type": "code",
   "execution_count": 12,
   "metadata": {},
   "outputs": [
    {
     "name": "stdout",
     "output_type": "stream",
     "text": [
      "{'W(T1_0)': 1, 'R(T3_2)': 1, 'W(T1_6)': 1, 'R(T2_2)': 1, 'R(T4_1)': 3, 'W(T3_4)': 1, 'R(T4_3)': 1, 'W(T4_3)': 1, 'R(T1_3)': 3, 'W(T5_3)': 1, 'W(T2_3)': 2, 'W(T5_1)': 2, 'R(T2_0)': 3, 'W(T4_7)': 1, 'W(T2_2)': 1, 'R(T1_7)': 2, 'W(T5_7)': 1, 'W(T3_3)': 1, 'R(T3_5)': 2, 'R(T3_3)': 1, 'R(T1_5)': 1, 'R(T3_4)': 2, 'W(T1_7)': 1, 'R(T3_1)': 3, 'R(T5_5)': 2, 'R(T2_3)': 1, 'W(T1_5)': 1, 'W(T4_5)': 1, 'R(T4_2)': 1, 'R(T1_6)': 1, 'W(T5_4)': 2, 'R(T1_2)': 1, 'W(T4_0)': 1, 'W(T5_2)': 2, 'R(T5_7)': 1, 'R(T5_3)': 1, 'R(T2_1)': 1, 'R(T1_4)': 2, 'W(T5_8)': 2, 'W(T3_0)': 2, 'R(T5_8)': 1, 'W(T4_4)': 2, 'R(T1_1)': 1, 'W(T3_2)': 2}\n"
     ]
    }
   ],
   "source": [
    "print(att_freq_transactions)"
   ]
  },
  {
   "cell_type": "code",
   "execution_count": 13,
   "metadata": {},
   "outputs": [
    {
     "name": "stdout",
     "output_type": "stream",
     "text": [
      "{'W(T1_0)': 0, 'R(T3_2)': 0, 'W(T1_6)': 2, 'R(T2_2)': 2, 'R(T4_1)': 2, 'W(T3_4)': 2, 'R(T4_3)': 1, 'W(T4_3)': 2, 'R(T1_3)': 2, 'W(T5_3)': 0, 'W(T2_3)': 1, 'W(T5_1)': 2, 'R(T2_0)': 3, 'W(T4_7)': 2, 'W(T2_2)': 1, 'R(T1_7)': 1, 'W(T5_7)': 1, 'W(T3_3)': 0, 'R(T3_5)': 1, 'R(T3_3)': 1, 'R(T1_5)': 2, 'R(T3_4)': 1, 'W(T1_7)': 2, 'R(T3_1)': 3, 'R(T5_5)': 3, 'R(T2_3)': 1, 'W(T1_5)': 0, 'W(T4_5)': 2, 'R(T4_2)': 1, 'R(T1_6)': 0, 'W(T5_4)': 2, 'R(T1_2)': 0, 'W(T4_0)': 1, 'W(T5_2)': 2, 'R(T5_7)': 2, 'R(T5_3)': 1, 'R(T2_1)': 2, 'R(T1_4)': 1, 'W(T5_8)': 2, 'W(T3_0)': 1, 'R(T5_8)': 1, 'W(T4_4)': 2, 'R(T1_1)': 0, 'W(T3_2)': 3}\n"
     ]
    }
   ],
   "source": [
    "print(att_freq_profiles)"
   ]
  },
  {
   "cell_type": "code",
   "execution_count": 20,
   "metadata": {},
   "outputs": [],
   "source": [
    "att_role_senstivity = dict()\n",
    "att_transaction_senstivity = dict()\n",
    "\n",
    "no_of_transactions = 5.0\n",
    "num_of_roles = 3.0\n",
    "\n",
    "for ix in att_freq_transactions:\n",
    "    att_transaction_senstivity[ix] = 1 - (att_freq_transactions[ix]/no_of_transactions)\n",
    "    \n",
    "for ix in att_freq_profiles:\n",
    "    att_role_senstivity[ix] = 1 - (att_freq_profiles[ix]/num_of_roles)\n",
    "    \n",
    "att_sensitivity = dict()\n",
    "for ix in att_freq_transactions:\n",
    "    att_sensitivity[ix] = (2*att_role_senstivity[ix]*att_transaction_senstivity[ix])/(att_role_senstivity[ix]+att_transaction_senstivity[ix])"
   ]
  },
  {
   "cell_type": "code",
   "execution_count": 21,
   "metadata": {},
   "outputs": [
    {
     "name": "stdout",
     "output_type": "stream",
     "text": [
      "{'W(T1_0)': 0.888888888888889, 'W(T3_2)': 0.0, 'R(T3_2)': 0.888888888888889, 'W(T1_6)': 0.47058823529411775, 'R(T2_2)': 0.47058823529411775, 'R(T4_1)': 0.3636363636363637, 'R(T4_3)': 0.7272727272727274, 'R(T1_1)': 0.888888888888889, 'R(T1_3)': 0.3636363636363637, 'W(T5_3)': 0.888888888888889, 'W(T5_1)': 0.4285714285714286, 'R(T2_0)': 0.0, 'R(T1_5)': 0.47058823529411775, 'R(T3_4)': 0.6315789473684211, 'R(T1_7)': 0.6315789473684211, 'W(T5_7)': 0.7272727272727274, 'W(T3_3)': 0.888888888888889, 'R(T3_5)': 0.6315789473684211, 'R(T3_3)': 0.7272727272727274, 'W(T2_2)': 0.7272727272727274, 'W(T1_7)': 0.47058823529411775, 'R(T3_1)': 0.0, 'W(T3_4)': 0.47058823529411775, 'R(T2_3)': 0.7272727272727274, 'W(T1_5)': 0.888888888888889, 'W(T5_8)': 0.4285714285714286, 'W(T3_0)': 0.6315789473684211, 'W(T4_5)': 0.47058823529411775, 'R(T4_2)': 0.7272727272727274, 'W(T4_4)': 0.4285714285714286, 'W(T5_4)': 0.4285714285714286, 'W(T4_0)': 0.7272727272727274, 'R(T1_2)': 0.888888888888889, 'W(T5_2)': 0.4285714285714286, 'R(T5_7)': 0.47058823529411775, 'R(T5_3)': 0.7272727272727274, 'R(T2_1)': 0.47058823529411775, 'R(T1_4)': 0.6315789473684211, 'W(T2_3)': 0.6315789473684211, 'R(T5_5)': 0.0, 'R(T5_8)': 0.7272727272727274, 'R(T1_6)': 0.888888888888889, 'W(T4_3)': 0.47058823529411775, 'W(T4_7)': 0.47058823529411775}\n"
     ]
    }
   ],
   "source": [
    "print(att_sensitivity)"
   ]
  },
  {
   "cell_type": "code",
   "execution_count": 5,
   "metadata": {},
   "outputs": [],
   "source": [
    "def add_subseq(tr):\n",
    "    seq = list([[]])\n",
    "    for ix in range(0,len(tr)):\n",
    "        temp = list()\n",
    "        for jx in range(0,len(seq)):\n",
    "            t = seq[jx][:]\n",
    "            t.append(tr[ix])\n",
    "            temp.append(t)\n",
    "        seq = seq + temp\n",
    "    return seq"
   ]
  },
  {
   "cell_type": "code",
   "execution_count": 34,
   "metadata": {},
   "outputs": [
    {
     "name": "stdout",
     "output_type": "stream",
     "text": [
      "108\n",
      "85\n"
     ]
    }
   ],
   "source": [
    "SDB = list()\n",
    "for ix in transaction_list:\n",
    "    tr = transaction_list[ix]\n",
    "    SDB = SDB + add_subseq(tr)\n",
    "\n",
    "print(len(SDB))\n",
    "SDB = set(tuple(ls) for ls in SDB)\n",
    "print(len(SDB))"
   ]
  },
  {
   "cell_type": "code",
   "execution_count": 24,
   "metadata": {},
   "outputs": [],
   "source": [
    "thresh = 0.30"
   ]
  },
  {
   "cell_type": "code",
   "execution_count": 30,
   "metadata": {},
   "outputs": [],
   "source": [
    "class TrieNode(object):\n",
    "    \n",
    "    def __init__(self, att):\n",
    "        self.att = att\n",
    "        self.children = {}\n",
    "        self.counter = 0\n",
    "        \n",
    "\n",
    "def add(root, ls, ind):\n",
    "    \n",
    "    if len(ls)==ind:\n",
    "        root.counter += 1\n",
    "        return\n",
    "    \n",
    "    if ls[ind] in root.children:\n",
    "        add(root.children[ls[ind]], ls, ind+1)\n",
    "    else:\n",
    "        root.children[ls[ind]] = TrieNode(ls[ind])\n",
    "        add(root.children[ls[ind]], ls, ind+1)\n",
    "    \n",
    "    \n",
    "def get_freq_seq(root, sm, cnt, ls, freq):\n",
    "    \n",
    "    if cnt==0 or ((sm+att_sensitivity[root.att])*root.counter)/cnt > thresh:\n",
    "        for ix in root.children:\n",
    "            if get_freq_seq(root.children[ix], sm+att_sensitivity[root.att], cnt+1, ls+[ix], freq) == True:\n",
    "                return True\n",
    "        freq.append(ls+[root.att])\n",
    "        print(ls+[root.att])\n",
    "        return True\n",
    "    else:\n",
    "        return False"
   ]
  },
  {
   "cell_type": "code",
   "execution_count": 20,
   "metadata": {},
   "outputs": [],
   "source": [
    "tree_root = TrieNode('0')\n",
    "for ix in SDB:\n",
    "    add(tree_root, ix, 0)"
   ]
  },
  {
   "cell_type": "code",
   "execution_count": 31,
   "metadata": {},
   "outputs": [
    {
     "name": "stdout",
     "output_type": "stream",
     "text": [
      "['E', 'H', 'H']\n"
     ]
    },
    {
     "data": {
      "text/plain": [
       "True"
      ]
     },
     "execution_count": 31,
     "metadata": {},
     "output_type": "execute_result"
    }
   ],
   "source": [
    "get_freq_seq(tree_root, 0, 0, [], [])"
   ]
  },
  {
   "cell_type": "code",
   "execution_count": 36,
   "metadata": {},
   "outputs": [
    {
     "name": "stdout",
     "output_type": "stream",
     "text": [
      "set([('A', 'F', 'F'), ('E', 'F'), ('D', 'F'), ('A', 'C', 'F'), ('D', 'H'), ('FG',), ('CD', 'C', 'F'), ('CD', 'C', 'E', 'F'), ('F', 'F'), ('A', 'F'), ('CD', 'C', 'E'), ('A', 'C', 'DE', 'F'), ('DE',), ('D', 'E', 'F'), ('C', 'DE', 'F'), ('E', 'C'), ('D', 'H', 'F'), ('C', 'E', 'F'), ('CD', 'A', 'C', 'F'), ('B',), ('F', 'DE', 'F'), ('DE', 'F'), ('A',), ('E', 'H'), ('A', 'F', 'DE'), ('C', 'H'), ('C',), ('E', 'C', 'F'), ('CD', 'A'), ('D',), ('B', 'C'), ('E',), ('CD', 'A', 'E', 'F'), ('CD', 'E', 'F'), ('D', 'E'), ('A', 'E', 'F'), ('A', 'E'), ('CD', 'E'), ('C', 'F', 'DE'), ('E', 'C', 'H'), ('A', 'C'), ('E', 'H', 'F'), ('D', 'E', 'C', 'F'), ('D', 'E', 'H'), ('C', 'F'), ('CD', 'A', 'E'), ('C', 'F', 'DE', 'F'), ('D', 'E', 'C'), ('D', 'C', 'F'), ('D', 'E', 'C', 'H'), ('C', 'H', 'F'), ('A', 'C', 'F', 'F'), ('H',), ('D', 'C', 'H'), ('E', 'C', 'H', 'F'), ('B', 'B'), ('C', 'DE'), ('C', 'B'), ('CD', 'F'), ('CD', 'A', 'F'), ('D', 'C', 'H', 'F'), ('F', 'DE'), ('B', 'C', 'B'), ('FG', 'H'), ('A', 'DE', 'F'), ('CD',), ('A', 'F', 'DE', 'F'), ('A', 'C', 'E', 'F'), ('A', 'C', 'F', 'DE', 'F'), ('CD', 'C'), ('CD', 'A', 'C', 'E', 'F'), ('C', 'F', 'F'), ('CD', 'A', 'C'), ('D', 'E', 'C', 'H', 'F'), ('A', 'C', 'E'), ('A', 'C', 'DE'), ('A', 'DE'), (), ('CD', 'A', 'C', 'E'), ('F',), ('A', 'C', 'F', 'DE'), ('H', 'F'), ('D', 'C'), ('C', 'E'), ('D', 'E', 'H', 'F')])\n"
     ]
    }
   ],
   "source": [
    "print(SDB)"
   ]
  },
  {
   "cell_type": "code",
   "execution_count": null,
   "metadata": {},
   "outputs": [],
   "source": []
  }
 ],
 "metadata": {
  "kernelspec": {
   "display_name": "Python 2",
   "language": "python",
   "name": "python2"
  },
  "language_info": {
   "codemirror_mode": {
    "name": "ipython",
    "version": 2
   },
   "file_extension": ".py",
   "mimetype": "text/x-python",
   "name": "python",
   "nbconvert_exporter": "python",
   "pygments_lexer": "ipython2",
   "version": "2.7.14"
  }
 },
 "nbformat": 4,
 "nbformat_minor": 2
}
